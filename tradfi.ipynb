{
 "cells": [
  {
   "cell_type": "markdown",
   "metadata": {},
   "source": [
    "## Data Preprocessing"
   ]
  },
  {
   "cell_type": "code",
   "execution_count": null,
   "metadata": {},
   "outputs": [
    {
     "data": {
      "text/plain": [
       "'1.5.6'"
      ]
     },
     "execution_count": 2,
     "metadata": {},
     "output_type": "execute_result"
    }
   ],
   "source": [
    "import pandas as pd\n",
    "import numpy as np\n",
    "import matplotlib.pyplot as plt\n",
    "\n",
    "# pip install pyPortfolioOpt\n",
    "import pypfopt\n",
    "from pypfopt import risk_models, expected_returns, plotting, CLA\n",
    "from pypfopt.efficient_frontier import EfficientFrontier\n",
    "from pypfopt.expected_returns import mean_historical_return\n",
    "\n",
    "pypfopt.__version__"
   ]
  },
  {
   "cell_type": "code",
   "execution_count": 4,
   "metadata": {},
   "outputs": [
    {
     "data": {
      "text/html": [
       "<div>\n",
       "<style scoped>\n",
       "    .dataframe tbody tr th:only-of-type {\n",
       "        vertical-align: middle;\n",
       "    }\n",
       "\n",
       "    .dataframe tbody tr th {\n",
       "        vertical-align: top;\n",
       "    }\n",
       "\n",
       "    .dataframe thead th {\n",
       "        text-align: right;\n",
       "    }\n",
       "</style>\n",
       "<table border=\"1\" class=\"dataframe\">\n",
       "  <thead>\n",
       "    <tr style=\"text-align: right;\">\n",
       "      <th></th>\n",
       "      <th>Date</th>\n",
       "      <th>NASDAQ_Returns</th>\n",
       "    </tr>\n",
       "  </thead>\n",
       "  <tbody>\n",
       "    <tr>\n",
       "      <th>0</th>\n",
       "      <td>2010-02-28</td>\n",
       "      <td>4.540954</td>\n",
       "    </tr>\n",
       "    <tr>\n",
       "      <th>1</th>\n",
       "      <td>2010-03-31</td>\n",
       "      <td>7.657586</td>\n",
       "    </tr>\n",
       "    <tr>\n",
       "      <th>2</th>\n",
       "      <td>2010-04-30</td>\n",
       "      <td>2.159086</td>\n",
       "    </tr>\n",
       "    <tr>\n",
       "      <th>3</th>\n",
       "      <td>2010-05-31</td>\n",
       "      <td>-7.345586</td>\n",
       "    </tr>\n",
       "    <tr>\n",
       "      <th>4</th>\n",
       "      <td>2010-06-30</td>\n",
       "      <td>-6.101762</td>\n",
       "    </tr>\n",
       "  </tbody>\n",
       "</table>\n",
       "</div>"
      ],
      "text/plain": [
       "        Date  NASDAQ_Returns\n",
       "0 2010-02-28        4.540954\n",
       "1 2010-03-31        7.657586\n",
       "2 2010-04-30        2.159086\n",
       "3 2010-05-31       -7.345586\n",
       "4 2010-06-30       -6.101762"
      ]
     },
     "execution_count": 4,
     "metadata": {},
     "output_type": "execute_result"
    }
   ],
   "source": [
    "nasdaq_etf = pd.read_excel(\"./data/data.xlsx\", skiprows=4, usecols=[0, 1], names=[\"Date\", \"NASDAQ_Returns\"])\n",
    "nasdaq_etf[\"NASDAQ_Returns\"] = pd.to_numeric(nasdaq_etf[\"NASDAQ_Returns\"], errors=\"coerce\")\n",
    "nasdaq_etf[\"Date\"] = pd.to_datetime(nasdaq_etf[\"Date\"], errors=\"coerce\")\n",
    "nasdaq_etf = nasdaq_etf.dropna().reset_index(drop=True)\n",
    "\n",
    "nasdaq_etf.head()"
   ]
  },
  {
   "cell_type": "code",
   "execution_count": 5,
   "metadata": {},
   "outputs": [
    {
     "data": {
      "text/html": [
       "<div>\n",
       "<style scoped>\n",
       "    .dataframe tbody tr th:only-of-type {\n",
       "        vertical-align: middle;\n",
       "    }\n",
       "\n",
       "    .dataframe tbody tr th {\n",
       "        vertical-align: top;\n",
       "    }\n",
       "\n",
       "    .dataframe thead th {\n",
       "        text-align: right;\n",
       "    }\n",
       "</style>\n",
       "<table border=\"1\" class=\"dataframe\">\n",
       "  <thead>\n",
       "    <tr style=\"text-align: right;\">\n",
       "      <th></th>\n",
       "      <th>Date</th>\n",
       "      <th>MSCI_Returns</th>\n",
       "    </tr>\n",
       "  </thead>\n",
       "  <tbody>\n",
       "    <tr>\n",
       "      <th>0</th>\n",
       "      <td>2003-05-31</td>\n",
       "      <td>8.19</td>\n",
       "    </tr>\n",
       "    <tr>\n",
       "      <th>1</th>\n",
       "      <td>2003-06-30</td>\n",
       "      <td>4.86</td>\n",
       "    </tr>\n",
       "    <tr>\n",
       "      <th>2</th>\n",
       "      <td>2003-07-31</td>\n",
       "      <td>5.93</td>\n",
       "    </tr>\n",
       "    <tr>\n",
       "      <th>3</th>\n",
       "      <td>2003-08-31</td>\n",
       "      <td>7.11</td>\n",
       "    </tr>\n",
       "    <tr>\n",
       "      <th>4</th>\n",
       "      <td>2003-09-30</td>\n",
       "      <td>0.65</td>\n",
       "    </tr>\n",
       "  </tbody>\n",
       "</table>\n",
       "</div>"
      ],
      "text/plain": [
       "        Date  MSCI_Returns\n",
       "0 2003-05-31          8.19\n",
       "1 2003-06-30          4.86\n",
       "2 2003-07-31          5.93\n",
       "3 2003-08-31          7.11\n",
       "4 2003-09-30          0.65"
      ]
     },
     "execution_count": 5,
     "metadata": {},
     "output_type": "execute_result"
    }
   ],
   "source": [
    "em_etf = pd.read_excel(\"./data/data.xlsx\", skiprows=4, usecols=[2, 3], names=[\"Date\", \"MSCI_Returns\"])\n",
    "em_etf[\"MSCI_Returns\"] = pd.to_numeric(em_etf[\"MSCI_Returns\"], errors=\"coerce\")\n",
    "em_etf[\"Date\"] = pd.to_datetime(em_etf[\"Date\"], errors=\"coerce\")\n",
    "em_etf = em_etf.dropna().reset_index(drop=True)\n",
    "\n",
    "em_etf.head()"
   ]
  },
  {
   "cell_type": "code",
   "execution_count": 6,
   "metadata": {},
   "outputs": [
    {
     "data": {
      "text/html": [
       "<div>\n",
       "<style scoped>\n",
       "    .dataframe tbody tr th:only-of-type {\n",
       "        vertical-align: middle;\n",
       "    }\n",
       "\n",
       "    .dataframe tbody tr th {\n",
       "        vertical-align: top;\n",
       "    }\n",
       "\n",
       "    .dataframe thead th {\n",
       "        text-align: right;\n",
       "    }\n",
       "</style>\n",
       "<table border=\"1\" class=\"dataframe\">\n",
       "  <thead>\n",
       "    <tr style=\"text-align: right;\">\n",
       "      <th></th>\n",
       "      <th>Date</th>\n",
       "      <th>NASDAQ_Returns</th>\n",
       "      <th>MSCI_Returns</th>\n",
       "    </tr>\n",
       "  </thead>\n",
       "  <tbody>\n",
       "    <tr>\n",
       "      <th>0</th>\n",
       "      <td>2010-02-28</td>\n",
       "      <td>4.540954</td>\n",
       "      <td>0.41</td>\n",
       "    </tr>\n",
       "    <tr>\n",
       "      <th>1</th>\n",
       "      <td>2010-03-31</td>\n",
       "      <td>7.657586</td>\n",
       "      <td>7.93</td>\n",
       "    </tr>\n",
       "    <tr>\n",
       "      <th>2</th>\n",
       "      <td>2010-04-30</td>\n",
       "      <td>2.159086</td>\n",
       "      <td>0.71</td>\n",
       "    </tr>\n",
       "    <tr>\n",
       "      <th>3</th>\n",
       "      <td>2010-05-31</td>\n",
       "      <td>-7.345586</td>\n",
       "      <td>-9.70</td>\n",
       "    </tr>\n",
       "    <tr>\n",
       "      <th>4</th>\n",
       "      <td>2010-06-30</td>\n",
       "      <td>-6.101762</td>\n",
       "      <td>-0.55</td>\n",
       "    </tr>\n",
       "  </tbody>\n",
       "</table>\n",
       "</div>"
      ],
      "text/plain": [
       "        Date  NASDAQ_Returns  MSCI_Returns\n",
       "0 2010-02-28        4.540954          0.41\n",
       "1 2010-03-31        7.657586          7.93\n",
       "2 2010-04-30        2.159086          0.71\n",
       "3 2010-05-31       -7.345586         -9.70\n",
       "4 2010-06-30       -6.101762         -0.55"
      ]
     },
     "execution_count": 6,
     "metadata": {},
     "output_type": "execute_result"
    }
   ],
   "source": [
    "merged_data = pd.merge(nasdaq_etf, em_etf, on=\"Date\", how=\"inner\")\n",
    "\n",
    "merged_data.head()"
   ]
  },
  {
   "cell_type": "code",
   "execution_count": 7,
   "metadata": {},
   "outputs": [],
   "source": [
    "merged_data.set_index('Date', inplace = True)"
   ]
  },
  {
   "cell_type": "code",
   "execution_count": 8,
   "metadata": {},
   "outputs": [],
   "source": [
    "df = merged_data"
   ]
  },
  {
   "cell_type": "code",
   "execution_count": 9,
   "metadata": {},
   "outputs": [
    {
     "data": {
      "text/html": [
       "<div>\n",
       "<style scoped>\n",
       "    .dataframe tbody tr th:only-of-type {\n",
       "        vertical-align: middle;\n",
       "    }\n",
       "\n",
       "    .dataframe tbody tr th {\n",
       "        vertical-align: top;\n",
       "    }\n",
       "\n",
       "    .dataframe thead th {\n",
       "        text-align: right;\n",
       "    }\n",
       "</style>\n",
       "<table border=\"1\" class=\"dataframe\">\n",
       "  <thead>\n",
       "    <tr style=\"text-align: right;\">\n",
       "      <th></th>\n",
       "      <th>NASDAQ_Returns</th>\n",
       "      <th>MSCI_Returns</th>\n",
       "    </tr>\n",
       "    <tr>\n",
       "      <th>Date</th>\n",
       "      <th></th>\n",
       "      <th></th>\n",
       "    </tr>\n",
       "  </thead>\n",
       "  <tbody>\n",
       "    <tr>\n",
       "      <th>2010-02-28</th>\n",
       "      <td>0.045410</td>\n",
       "      <td>0.0041</td>\n",
       "    </tr>\n",
       "    <tr>\n",
       "      <th>2010-03-31</th>\n",
       "      <td>0.076576</td>\n",
       "      <td>0.0793</td>\n",
       "    </tr>\n",
       "    <tr>\n",
       "      <th>2010-04-30</th>\n",
       "      <td>0.021591</td>\n",
       "      <td>0.0071</td>\n",
       "    </tr>\n",
       "    <tr>\n",
       "      <th>2010-05-31</th>\n",
       "      <td>-0.073456</td>\n",
       "      <td>-0.0970</td>\n",
       "    </tr>\n",
       "    <tr>\n",
       "      <th>2010-06-30</th>\n",
       "      <td>-0.061018</td>\n",
       "      <td>-0.0055</td>\n",
       "    </tr>\n",
       "    <tr>\n",
       "      <th>...</th>\n",
       "      <td>...</td>\n",
       "      <td>...</td>\n",
       "    </tr>\n",
       "    <tr>\n",
       "      <th>2024-05-31</th>\n",
       "      <td>0.063454</td>\n",
       "      <td>0.0157</td>\n",
       "    </tr>\n",
       "    <tr>\n",
       "      <th>2024-06-30</th>\n",
       "      <td>0.062242</td>\n",
       "      <td>0.0310</td>\n",
       "    </tr>\n",
       "    <tr>\n",
       "      <th>2024-07-31</th>\n",
       "      <td>-0.016261</td>\n",
       "      <td>0.0070</td>\n",
       "    </tr>\n",
       "    <tr>\n",
       "      <th>2024-08-31</th>\n",
       "      <td>0.011373</td>\n",
       "      <td>0.0099</td>\n",
       "    </tr>\n",
       "    <tr>\n",
       "      <th>2024-10-31</th>\n",
       "      <td>-0.008491</td>\n",
       "      <td>-0.0358</td>\n",
       "    </tr>\n",
       "  </tbody>\n",
       "</table>\n",
       "<p>162 rows × 2 columns</p>\n",
       "</div>"
      ],
      "text/plain": [
       "            NASDAQ_Returns  MSCI_Returns\n",
       "Date                                    \n",
       "2010-02-28        0.045410        0.0041\n",
       "2010-03-31        0.076576        0.0793\n",
       "2010-04-30        0.021591        0.0071\n",
       "2010-05-31       -0.073456       -0.0970\n",
       "2010-06-30       -0.061018       -0.0055\n",
       "...                    ...           ...\n",
       "2024-05-31        0.063454        0.0157\n",
       "2024-06-30        0.062242        0.0310\n",
       "2024-07-31       -0.016261        0.0070\n",
       "2024-08-31        0.011373        0.0099\n",
       "2024-10-31       -0.008491       -0.0358\n",
       "\n",
       "[162 rows x 2 columns]"
      ]
     },
     "execution_count": 9,
     "metadata": {},
     "output_type": "execute_result"
    }
   ],
   "source": [
    "df[['NASDAQ_Returns', 'MSCI_Returns']] = df[['NASDAQ_Returns', 'MSCI_Returns']] / 100\n",
    "df"
   ]
  },
  {
   "cell_type": "code",
   "execution_count": 10,
   "metadata": {},
   "outputs": [],
   "source": [
    "# train test split on 2022\n",
    "train_df = df[df.index < '2022-01-01']\n",
    "test_df = df[df.index >= '2022-01-01']"
   ]
  },
  {
   "cell_type": "code",
   "execution_count": 11,
   "metadata": {},
   "outputs": [],
   "source": [
    "# # check mu manually\n",
    "# # Ensure train_df is a copy of the original DataFrame slice\n",
    "# train_df = train_df.copy()\n",
    "\n",
    "# # Extract the year and assign it to a new column\n",
    "# train_df.loc[:, 'Year'] = train_df.index.year\n",
    "\n",
    "# nasdaq_yearly_returns = train_df.groupby('Year')['NASDAQ_Returns'].apply(lambda x: (x + 1).prod() - 1)\n",
    "# msci_yearly_returns = train_df.groupby('Year')['MSCI_Returns'].apply(lambda x: (x + 1).prod() - 1)\n",
    "\n",
    "# # Calculate the mean historical yearly return for each\n",
    "# mean_yearly_return_nasdaq = nasdaq_yearly_returns.mean()\n",
    "# mean_yearly_return_msci = msci_yearly_returns.mean()\n",
    "\n",
    "# # Display results\n",
    "# print(\"NASDAQ Yearly Returns:\")\n",
    "# print(nasdaq_yearly_returns)\n",
    "# print(\"\\nMSCI Yearly Returns:\")\n",
    "# print(msci_yearly_returns)\n",
    "# print(f\"\\nMean Historical Yearly Return (NASDAQ): {mean_yearly_return_nasdaq:.4f}\")\n",
    "# print(f\"Mean Historical Yearly Return (MSCI): {mean_yearly_return_msci:.4f}\")"
   ]
  },
  {
   "cell_type": "code",
   "execution_count": 12,
   "metadata": {},
   "outputs": [],
   "source": [
    "mu = mean_historical_return(train_df, returns_data = True, frequency = 12)\n",
    "S = risk_models.CovarianceShrinkage(train_df, returns_data = True, frequency = 12).ledoit_wolf()"
   ]
  },
  {
   "cell_type": "code",
   "execution_count": 13,
   "metadata": {},
   "outputs": [
    {
     "data": {
      "text/plain": [
       "(NASDAQ_Returns    0.234380\n",
       " MSCI_Returns      0.052019\n",
       " dtype: float64,\n",
       "                 NASDAQ_Returns  MSCI_Returns\n",
       " NASDAQ_Returns        0.024678      0.017052\n",
       " MSCI_Returns          0.017052      0.028701)"
      ]
     },
     "execution_count": 13,
     "metadata": {},
     "output_type": "execute_result"
    }
   ],
   "source": [
    "mu, S"
   ]
  },
  {
   "cell_type": "markdown",
   "metadata": {},
   "source": [
    "## Min-Variance Model"
   ]
  },
  {
   "cell_type": "code",
   "execution_count": 14,
   "metadata": {},
   "outputs": [
    {
     "data": {
      "text/html": [
       "<div>\n",
       "<style scoped>\n",
       "    .dataframe tbody tr th:only-of-type {\n",
       "        vertical-align: middle;\n",
       "    }\n",
       "\n",
       "    .dataframe tbody tr th {\n",
       "        vertical-align: top;\n",
       "    }\n",
       "\n",
       "    .dataframe thead th {\n",
       "        text-align: right;\n",
       "    }\n",
       "</style>\n",
       "<table border=\"1\" class=\"dataframe\">\n",
       "  <thead>\n",
       "    <tr style=\"text-align: right;\">\n",
       "      <th></th>\n",
       "      <th>NASDAQ_Returns</th>\n",
       "      <th>MSCI_Returns</th>\n",
       "    </tr>\n",
       "  </thead>\n",
       "  <tbody>\n",
       "    <tr>\n",
       "      <th>NASDAQ_Returns</th>\n",
       "      <td>0.024725</td>\n",
       "      <td>0.018396</td>\n",
       "    </tr>\n",
       "    <tr>\n",
       "      <th>MSCI_Returns</th>\n",
       "      <td>0.018396</td>\n",
       "      <td>0.029065</td>\n",
       "    </tr>\n",
       "  </tbody>\n",
       "</table>\n",
       "</div>"
      ],
      "text/plain": [
       "                NASDAQ_Returns  MSCI_Returns\n",
       "NASDAQ_Returns        0.024725      0.018396\n",
       "MSCI_Returns          0.018396      0.029065"
      ]
     },
     "execution_count": 14,
     "metadata": {},
     "output_type": "execute_result"
    }
   ],
   "source": [
    "sample_cov = risk_models.sample_cov(train_df, returns_data=True, frequency=12)\n",
    "sample_cov"
   ]
  },
  {
   "cell_type": "code",
   "execution_count": 15,
   "metadata": {},
   "outputs": [
    {
     "data": {
      "text/plain": [
       "<Axes: >"
      ]
     },
     "execution_count": 15,
     "metadata": {},
     "output_type": "execute_result"
    },
    {
     "data": {
      "image/png": "[encoded data removed]",
      "text/plain": [
       "<Figure size 640x480 with 2 Axes>"
      ]
     },
     "metadata": {},
     "output_type": "display_data"
    }
   ],
   "source": [
    "plotting.plot_covariance(sample_cov, plot_correlation=True)"
   ]
  },
  {
   "cell_type": "code",
   "execution_count": 16,
   "metadata": {},
   "outputs": [
    {
     "data": {
      "text/plain": [
       "OrderedDict([('NASDAQ_Returns', 0.60435), ('MSCI_Returns', 0.39565)])"
      ]
     },
     "execution_count": 16,
     "metadata": {},
     "output_type": "execute_result"
    }
   ],
   "source": [
    "ef = EfficientFrontier(mu, S, weight_bounds=(-1,1))\n",
    "\n",
    "ef.min_volatility()\n",
    "MV_weight_train = ef.clean_weights()\n",
    "MV_weight_train"
   ]
  },
  {
   "cell_type": "code",
   "execution_count": 17,
   "metadata": {},
   "outputs": [
    {
     "data": {
      "text/plain": [
       "<Axes: >"
      ]
     },
     "execution_count": 17,
     "metadata": {},
     "output_type": "execute_result"
    },
    {
     "data": {
      "image/png": "[encoded data removed]",
      "text/plain": [
       "<Figure size 640x480 with 1 Axes>"
      ]
     },
     "metadata": {},
     "output_type": "display_data"
    }
   ],
   "source": [
    "pd.Series(MV_weight_train).plot.pie()"
   ]
  },
  {
   "cell_type": "code",
   "execution_count": 18,
   "metadata": {},
   "outputs": [
    {
     "name": "stdout",
     "output_type": "stream",
     "text": [
      "Expected annual return: 16.2%\n",
      "Annual volatility: 14.7%\n",
      "Sharpe Ratio: 1.10\n"
     ]
    },
    {
     "data": {
      "text/plain": [
       "(0.16222895605602047, 0.14717659456982282, 1.1022741525593363)"
      ]
     },
     "execution_count": 18,
     "metadata": {},
     "output_type": "execute_result"
    }
   ],
   "source": [
    "ef.portfolio_performance(verbose= True)"
   ]
  },
  {
   "cell_type": "markdown",
   "metadata": {},
   "source": [
    "## Max Sharpe Ratio Model"
   ]
  },
  {
   "cell_type": "code",
   "execution_count": 19,
   "metadata": {},
   "outputs": [
    {
     "data": {
      "text/plain": [
       "OrderedDict([('NASDAQ_Returns', 1.0), ('MSCI_Returns', 0.0)])"
      ]
     },
     "execution_count": 19,
     "metadata": {},
     "output_type": "execute_result"
    }
   ],
   "source": [
    "ef_sharpe = EfficientFrontier(mu, S, weight_bounds=(-1,1))\n",
    "ef_sharpe.max_sharpe()\n",
    "MS_weight_train = ef_sharpe.clean_weights()\n",
    "MS_weight_train"
   ]
  },
  {
   "cell_type": "code",
   "execution_count": 20,
   "metadata": {},
   "outputs": [
    {
     "name": "stdout",
     "output_type": "stream",
     "text": [
      "Expected annual return: 23.4%\n",
      "Annual volatility: 15.7%\n",
      "Sharpe Ratio: 1.49\n"
     ]
    },
    {
     "data": {
      "text/plain": [
       "(0.23438018206030664, 0.15709368558565576, 1.49197710389518)"
      ]
     },
     "execution_count": 20,
     "metadata": {},
     "output_type": "execute_result"
    }
   ],
   "source": [
    "ef_sharpe.portfolio_performance(verbose=True)"
   ]
  },
  {
   "cell_type": "code",
   "execution_count": 21,
   "metadata": {},
   "outputs": [
    {
     "data": {
      "text/plain": [
       "<Axes: >"
      ]
     },
     "execution_count": 21,
     "metadata": {},
     "output_type": "execute_result"
    },
    {
     "data": {
      "image/png": "[encoded data removed]",
      "text/plain": [
       "<Figure size 640x480 with 1 Axes>"
      ]
     },
     "metadata": {},
     "output_type": "display_data"
    }
   ],
   "source": [
    "pd.Series(MS_weight_train).plot.pie()"
   ]
  },
  {
   "cell_type": "markdown",
   "metadata": {},
   "source": [
    "## Efficient CVaR optimization"
   ]
  },
  {
   "cell_type": "code",
   "execution_count": 22,
   "metadata": {},
   "outputs": [
    {
     "data": {
      "text/plain": [
       "<Axes: >"
      ]
     },
     "execution_count": 22,
     "metadata": {},
     "output_type": "execute_result"
    },
    {
     "data": {
      "image/png": "[encoded data removed]",
      "text/plain": [
       "<Figure size 640x480 with 1 Axes>"
      ]
     },
     "metadata": {},
     "output_type": "display_data"
    }
   ],
   "source": [
    "portfolio_rets = (train_df * MV_weight_train).sum(axis=1)\n",
    "portfolio_rets.hist(bins=50)"
   ]
  },
  {
   "cell_type": "code",
   "execution_count": 23,
   "metadata": {},
   "outputs": [
    {
     "name": "stdout",
     "output_type": "stream",
     "text": [
      "VaR: -6.65%\n",
      "CVaR: -8.39%\n"
     ]
    }
   ],
   "source": [
    "# VaR\n",
    "var = portfolio_rets.quantile(0.05)\n",
    "cvar = portfolio_rets[portfolio_rets <= var].mean()\n",
    "print(\"VaR: {:.2f}%\".format(100*var))\n",
    "print(\"CVaR: {:.2f}%\".format(100*cvar))"
   ]
  },
  {
   "cell_type": "code",
   "execution_count": 24,
   "metadata": {},
   "outputs": [
    {
     "name": "stdout",
     "output_type": "stream",
     "text": [
      "OrderedDict([('NASDAQ_Returns', 1.0), ('MSCI_Returns', 0.0)])\n",
      "Expected annual return: 23.4%\n",
      "Conditional Value at Risk: 7.89%\n"
     ]
    },
    {
     "data": {
      "text/plain": [
       "(0.23438018203733582, 0.07893136062606232)"
      ]
     },
     "execution_count": 24,
     "metadata": {},
     "output_type": "execute_result"
    }
   ],
   "source": [
    "from pypfopt import EfficientCVaR\n",
    "\n",
    "ec = EfficientCVaR(mu, train_df)\n",
    "ec.min_cvar()\n",
    "w = ec.clean_weights()\n",
    "print(w)\n",
    "ec.portfolio_performance(verbose=True)"
   ]
  },
  {
   "cell_type": "markdown",
   "metadata": {},
   "source": [
    "## Plotting\n",
    "\n",
    "use the critical line algorithm."
   ]
  },
  {
   "cell_type": "code",
   "execution_count": 25,
   "metadata": {},
   "outputs": [
    {
     "name": "stdout",
     "output_type": "stream",
     "text": [
      "Expected annual return: 16.2%\n",
      "Annual volatility: 14.7%\n",
      "Sharpe Ratio: 1.10\n"
     ]
    },
    {
     "data": {
      "text/plain": [
       "(0.16222895605602045, 0.14717659456982285, 1.102274152559336)"
      ]
     },
     "execution_count": 25,
     "metadata": {},
     "output_type": "execute_result"
    }
   ],
   "source": [
    "# Min Var\n",
    "cla = CLA(mu, S)\n",
    "cla.min_volatility()\n",
    "cla.portfolio_performance(verbose=True)"
   ]
  },
  {
   "cell_type": "code",
   "execution_count": 26,
   "metadata": {},
   "outputs": [
    {
     "data": {
      "image/png": "[encoded data removed]",
      "text/plain": [
       "<Figure size 640x480 with 1 Axes>"
      ]
     },
     "metadata": {},
     "output_type": "display_data"
    }
   ],
   "source": [
    "ax = plotting.plot_efficient_frontier(cla, showfig=False)"
   ]
  },
  {
   "cell_type": "code",
   "execution_count": 27,
   "metadata": {},
   "outputs": [
    {
     "name": "stdout",
     "output_type": "stream",
     "text": [
      "Expected annual return: 23.4%\n",
      "Annual volatility: 15.7%\n",
      "Sharpe Ratio: 1.49\n"
     ]
    },
    {
     "data": {
      "text/plain": [
       "(0.23438018206030664, 0.15709368558565576, 1.49197710389518)"
      ]
     },
     "execution_count": 27,
     "metadata": {},
     "output_type": "execute_result"
    }
   ],
   "source": [
    "# Max Sharpe\n",
    "cla = CLA(mu, S)\n",
    "cla.max_sharpe()\n",
    "cla.portfolio_performance(verbose=True)"
   ]
  },
  {
   "cell_type": "code",
   "execution_count": 28,
   "metadata": {},
   "outputs": [
    {
     "data": {
      "image/png": "[encoded data removed]",
      "text/plain": [
       "<Figure size 640x480 with 1 Axes>"
      ]
     },
     "metadata": {},
     "output_type": "display_data"
    }
   ],
   "source": [
    "ax = plotting.plot_efficient_frontier(cla, showfig=False)"
   ]
  },
  {
   "cell_type": "code",
   "execution_count": 29,
   "metadata": {},
   "outputs": [
    {
     "data": {
      "application/vnd.plotly.v1+json": {
       "config": {
        "plotlyServerURL": "https://plot.ly"
       },
       "data": [
        {
         "customdata": [
          [
           [
            1
           ],
           [
            0
           ]
          ],
          [
           [
            1
           ],
           [
            0
           ]
          ],
          [
           [
            1
           ],
           [
            0
           ]
          ],
          [
           [
            1
           ],
           [
            0
           ]
          ],
          [
           [
            1
           ],
           [
            0
           ]
          ],
          [
           [
            1
           ],
           [
            0
           ]
          ],
          [
           [
            1
           ],
           [
            0
           ]
          ],
          [
           [
            1
           ],
           [
            0
           ]
          ],
          [
           [
            1
           ],
           [
            0
           ]
          ],
          [
           [
            1
           ],
           [
            0
           ]
          ],
          [
           [
            1
           ],
           [
            0
           ]
          ],
          [
           [
            1
           ],
           [
            0
           ]
          ],
          [
           [
            1
           ],
           [
            0
           ]
          ],
          [
           [
            1
           ],
           [
            0
           ]
          ],
          [
           [
            1
           ],
           [
            0
           ]
          ],
          [
           [
            1
           ],
           [
            0
           ]
          ],
          [
           [
            1
           ],
           [
            0
           ]
          ],
          [
           [
            1
           ],
           [
            0
           ]
          ],
          [
           [
            1
           ],
           [
            0
           ]
          ],
          [
           [
            1
           ],
           [
            0
           ]
          ],
          [
           [
            1
           ],
           [
            0
           ]
          ],
          [
           [
            1
           ],
           [
            0
           ]
          ],
          [
           [
            1
           ],
           [
            0
           ]
          ],
          [
           [
            1
           ],
           [
            0
           ]
          ],
          [
           [
            1
           ],
           [
            0
           ]
          ],
          [
           [
            1
           ],
           [
            0
           ]
          ],
          [
           [
            1
           ],
           [
            0
           ]
          ],
          [
           [
            1
           ],
           [
            0
           ]
          ],
          [
           [
            1
           ],
           [
            0
           ]
          ],
          [
           [
            1
           ],
           [
            0
           ]
          ],
          [
           [
            1
           ],
           [
            0
           ]
          ],
          [
           [
            1
           ],
           [
            0
           ]
          ],
          [
           [
            1
           ],
           [
            0
           ]
          ],
          [
           [
            0.9876359493022285
           ],
           [
            0.012364050697771484
           ]
          ],
          [
           [
            0.9752718986044571
           ],
           [
            0.02472810139554297
           ]
          ],
          [
           [
            0.9629078479066855
           ],
           [
            0.03709215209331446
           ]
          ],
          [
           [
            0.950543797208914
           ],
           [
            0.04945620279108594
           ]
          ],
          [
           [
            0.9381797465111426
           ],
           [
            0.06182025348885742
           ]
          ],
          [
           [
            0.9258156958133711
           ],
           [
            0.07418430418662891
           ]
          ],
          [
           [
            0.9134516451155996
           ],
           [
            0.0865483548844004
           ]
          ],
          [
           [
            0.9010875944178282
           ],
           [
            0.09891240558217188
           ]
          ],
          [
           [
            0.8887235437200567
           ],
           [
            0.11127645627994336
           ]
          ],
          [
           [
            0.8763594930222851
           ],
           [
            0.12364050697771484
           ]
          ],
          [
           [
            0.8639954423245136
           ],
           [
            0.13600455767548633
           ]
          ],
          [
           [
            0.8516313916267422
           ],
           [
            0.14836860837325783
           ]
          ],
          [
           [
            0.8392673409289707
           ],
           [
            0.1607326590710293
           ]
          ],
          [
           [
            0.8269032902311992
           ],
           [
            0.1730967097688008
           ]
          ],
          [
           [
            0.8145392395334277
           ],
           [
            0.18546076046657226
           ]
          ],
          [
           [
            0.8021751888356563
           ],
           [
            0.19782481116434375
           ]
          ],
          [
           [
            0.7898111381378847
           ],
           [
            0.21018886186211524
           ]
          ],
          [
           [
            0.7774470874401133
           ],
           [
            0.2225529125598867
           ]
          ],
          [
           [
            0.7650830367423418
           ],
           [
            0.2349169632576582
           ]
          ],
          [
           [
            0.7527189860445703
           ],
           [
            0.24728101395542967
           ]
          ],
          [
           [
            0.7403549353467989
           ],
           [
            0.2596450646532012
           ]
          ],
          [
           [
            0.7279908846490273
           ],
           [
            0.27200911535097266
           ]
          ],
          [
           [
            0.7156268339512559
           ],
           [
            0.28437316604874413
           ]
          ],
          [
           [
            0.7032627832534843
           ],
           [
            0.29673721674651565
           ]
          ],
          [
           [
            0.6908987325557129
           ],
           [
            0.3091012674442871
           ]
          ],
          [
           [
            0.6785346818579414
           ],
           [
            0.3214653181420586
           ]
          ],
          [
           [
            0.66617063116017
           ],
           [
            0.33382936883983005
           ]
          ],
          [
           [
            0.6538065804623985
           ],
           [
            0.3461934195376016
           ]
          ],
          [
           [
            0.6414425297646269
           ],
           [
            0.35855747023537304
           ]
          ],
          [
           [
            0.6290784790668554
           ],
           [
            0.3709215209331445
           ]
          ],
          [
           [
            0.616714428369084
           ],
           [
            0.38328557163091603
           ]
          ],
          [
           [
            0.6043503776713125
           ],
           [
            0.3956496223286875
           ]
          ]
         ],
         "hovertemplate": "Risk: %{x}<br>Return: %{y}<extra>NASDAQ_Returns: %{customdata[0]:.4%}<br>MSCI_Returns: %{customdata[1]:.4%}<br></extra>",
         "line": {
          "color": "lightskyblue",
          "width": 2
         },
         "mode": "lines",
         "name": "Efficient frontier",
         "type": "scatter",
         "x": [
          0.15709368558565576,
          0.15709368558565576,
          0.15709368558565576,
          0.15709368558565576,
          0.15709368558565576,
          0.15709368558565576,
          0.15709368558565576,
          0.15709368558565576,
          0.15709368558565576,
          0.15709368558565576,
          0.15709368558565576,
          0.15709368558565576,
          0.15709368558565576,
          0.15709368558565576,
          0.15709368558565576,
          0.15709368558565576,
          0.15709368558565576,
          0.15709368558565576,
          0.15709368558565576,
          0.15709368558565576,
          0.15709368558565576,
          0.15709368558565576,
          0.15709368558565576,
          0.15709368558565576,
          0.15709368558565576,
          0.15709368558565576,
          0.15709368558565576,
          0.15709368558565576,
          0.15709368558565576,
          0.15709368558565576,
          0.15709368558565576,
          0.15709368558565576,
          0.15709368558565576,
          0.15650169504192024,
          0.15592635620393552,
          0.1553678540593645,
          0.15482637081234074,
          0.1543020856332212,
          0.15379517440588458,
          0.1533058094732356,
          0.15283415938161407,
          0.1523803886248432,
          0.15194465738868515,
          0.15152712129650134,
          0.1511279311569419,
          0.1507472327145117,
          0.15038516640387767,
          0.15004186710879674,
          0.14971746392655308,
          0.14941207993879427,
          0.14912583198965768,
          0.14885883047206713,
          0.1486111791230682,
          0.14838297482905083,
          0.14817430744168114,
          0.14798525960533365,
          0.14781590659677726,
          0.14766631617782508,
          0.14753654846160888,
          0.14742665579308567,
          0.1473366826443242,
          0.14726666552505582,
          0.14721663290890766,
          0.14718660517566307,
          0.14717659456982285
         ],
         "y": [
          0.23438018206030664,
          0.23438018206030664,
          0.23438018206030664,
          0.23438018206030664,
          0.23438018206030664,
          0.23438018206030664,
          0.23438018206030664,
          0.23438018206030664,
          0.23438018206030664,
          0.23438018206030664,
          0.23438018206030664,
          0.23438018206030664,
          0.23438018206030664,
          0.23438018206030664,
          0.23438018206030664,
          0.23438018206030664,
          0.23438018206030664,
          0.23438018206030664,
          0.23438018206030664,
          0.23438018206030664,
          0.23438018206030664,
          0.23438018206030664,
          0.23438018206030664,
          0.23438018206030664,
          0.23438018206030664,
          0.23438018206030664,
          0.23438018206030664,
          0.23438018206030664,
          0.23438018206030664,
          0.23438018206030664,
          0.23438018206030664,
          0.23438018206030664,
          0.23438018206030664,
          0.2321254562476727,
          0.22987073043503878,
          0.22761600462240478,
          0.22536127880977086,
          0.22310655299713691,
          0.22085182718450297,
          0.21859710137186905,
          0.2163423755592351,
          0.21408764974660116,
          0.2118329239339672,
          0.20957819812133324,
          0.20732347230869932,
          0.20506874649606538,
          0.20281402068343146,
          0.20055929487079746,
          0.19830456905816354,
          0.1960498432455296,
          0.19379511743289565,
          0.19154039162026174,
          0.18928566580762776,
          0.18703093999499382,
          0.18477621418235987,
          0.18252148836972595,
          0.180266762557092,
          0.17801203674445806,
          0.17575731093182412,
          0.17350258511919017,
          0.17124785930655623,
          0.16899313349392228,
          0.16673840768128834,
          0.16448368186865442,
          0.16222895605602045
         ]
        },
        {
         "customdata": [
          [
           1,
           0
          ],
          [
           1.49197710389518
          ]
         ],
         "hovertemplate": "Sharpe: %{{customdata[1]:.4}}<br>Risk: %{x}<br>Return: %{y}<extra>NASDAQ_Returns: %{customdata[0]:.4%}<br>MSCI_Returns: %{customdata[1]:.4%}<br></extra>",
         "marker": {
          "color": "coral",
          "size": 12,
          "symbol": "x"
         },
         "mode": "markers",
         "name": "Max Sharpe Portfolio",
         "type": "scatter",
         "x": [
          0.15709368558565576
         ],
         "y": [
          0.23438018206030664
         ]
        },
        {
         "hovertemplate": "Risk: %{x}<br>Return: %{y}<extra></extra>",
         "marker": {
          "color": "silver",
          "size": 10,
          "symbol": "star-diamond"
         },
         "mode": "markers",
         "name": "Assets",
         "type": "scatter",
         "x": [
          0.15709368558565576,
          0.16941485140439388
         ],
         "y": [
          0.23438018206030664,
          0.05201876445140452
         ]
        }
       ],
       "layout": {
        "template": {
         "data": {
          "bar": [
           {
            "error_x": {
             "color": "#2a3f5f"
            },
            "error_y": {
             "color": "#2a3f5f"
            },
            "marker": {
             "line": {
              "color": "#E5ECF6",
              "width": 0.5
             },
             "pattern": {
              "fillmode": "overlay",
              "size": 10,
              "solidity": 0.2
             }
            },
            "type": "bar"
           }
          ],
          "barpolar": [
           {
            "marker": {
             "line": {
              "color": "#E5ECF6",
              "width": 0.5
             },
             "pattern": {
              "fillmode": "overlay",
              "size": 10,
              "solidity": 0.2
             }
            },
            "type": "barpolar"
           }
          ],
          "carpet": [
           {
            "aaxis": {
             "endlinecolor": "#2a3f5f",
             "gridcolor": "white",
             "linecolor": "white",
             "minorgridcolor": "white",
             "startlinecolor": "#2a3f5f"
            },
            "baxis": {
             "endlinecolor": "#2a3f5f",
             "gridcolor": "white",
             "linecolor": "white",
             "minorgridcolor": "white",
             "startlinecolor": "#2a3f5f"
            },
            "type": "carpet"
           }
          ],
          "choropleth": [
           {
            "colorbar": {
             "outlinewidth": 0,
             "ticks": ""
            },
            "type": "choropleth"
           }
          ],
          "contour": [
           {
            "colorbar": {
             "outlinewidth": 0,
             "ticks": ""
            },
            "colorscale": [
             [
              0,
              "#0d0887"
             ],
             [
              0.1111111111111111,
              "#46039f"
             ],
             [
              0.2222222222222222,
              "#7201a8"
             ],
             [
              0.3333333333333333,
              "#9c179e"
             ],
             [
              0.4444444444444444,
              "#bd3786"
             ],
             [
              0.5555555555555556,
              "#d8576b"
             ],
             [
              0.6666666666666666,
              "#ed7953"
             ],
             [
              0.7777777777777778,
              "#fb9f3a"
             ],
             [
              0.8888888888888888,
              "#fdca26"
             ],
             [
              1,
              "#f0f921"
             ]
            ],
            "type": "contour"
           }
          ],
          "contourcarpet": [
           {
            "colorbar": {
             "outlinewidth": 0,
             "ticks": ""
            },
            "type": "contourcarpet"
           }
          ],
          "heatmap": [
           {
            "colorbar": {
             "outlinewidth": 0,
             "ticks": ""
            },
            "colorscale": [
             [
              0,
              "#0d0887"
             ],
             [
              0.1111111111111111,
              "#46039f"
             ],
             [
              0.2222222222222222,
              "#7201a8"
             ],
             [
              0.3333333333333333,
              "#9c179e"
             ],
             [
              0.4444444444444444,
              "#bd3786"
             ],
             [
              0.5555555555555556,
              "#d8576b"
             ],
             [
              0.6666666666666666,
              "#ed7953"
             ],
             [
              0.7777777777777778,
              "#fb9f3a"
             ],
             [
              0.8888888888888888,
              "#fdca26"
             ],
             [
              1,
              "#f0f921"
             ]
            ],
            "type": "heatmap"
           }
          ],
          "heatmapgl": [
           {
            "colorbar": {
             "outlinewidth": 0,
             "ticks": ""
            },
            "colorscale": [
             [
              0,
              "#0d0887"
             ],
             [
              0.1111111111111111,
              "#46039f"
             ],
             [
              0.2222222222222222,
              "#7201a8"
             ],
             [
              0.3333333333333333,
              "#9c179e"
             ],
             [
              0.4444444444444444,
              "#bd3786"
             ],
             [
              0.5555555555555556,
              "#d8576b"
             ],
             [
              0.6666666666666666,
              "#ed7953"
             ],
             [
              0.7777777777777778,
              "#fb9f3a"
             ],
             [
              0.8888888888888888,
              "#fdca26"
             ],
             [
              1,
              "#f0f921"
             ]
            ],
            "type": "heatmapgl"
           }
          ],
          "histogram": [
           {
            "marker": {
             "pattern": {
              "fillmode": "overlay",
              "size": 10,
              "solidity": 0.2
             }
            },
            "type": "histogram"
           }
          ],
          "histogram2d": [
           {
            "colorbar": {
             "outlinewidth": 0,
             "ticks": ""
            },
            "colorscale": [
             [
              0,
              "#0d0887"
             ],
             [
              0.1111111111111111,
              "#46039f"
             ],
             [
              0.2222222222222222,
              "#7201a8"
             ],
             [
              0.3333333333333333,
              "#9c179e"
             ],
             [
              0.4444444444444444,
              "#bd3786"
             ],
             [
              0.5555555555555556,
              "#d8576b"
             ],
             [
              0.6666666666666666,
              "#ed7953"
             ],
             [
              0.7777777777777778,
              "#fb9f3a"
             ],
             [
              0.8888888888888888,
              "#fdca26"
             ],
             [
              1,
              "#f0f921"
             ]
            ],
            "type": "histogram2d"
           }
          ],
          "histogram2dcontour": [
           {
            "colorbar": {
             "outlinewidth": 0,
             "ticks": ""
            },
            "colorscale": [
             [
              0,
              "#0d0887"
             ],
             [
              0.1111111111111111,
              "#46039f"
             ],
             [
              0.2222222222222222,
              "#7201a8"
             ],
             [
              0.3333333333333333,
              "#9c179e"
             ],
             [
              0.4444444444444444,
              "#bd3786"
             ],
             [
              0.5555555555555556,
              "#d8576b"
             ],
             [
              0.6666666666666666,
              "#ed7953"
             ],
             [
              0.7777777777777778,
              "#fb9f3a"
             ],
             [
              0.8888888888888888,
              "#fdca26"
             ],
             [
              1,
              "#f0f921"
             ]
            ],
            "type": "histogram2dcontour"
           }
          ],
          "mesh3d": [
           {
            "colorbar": {
             "outlinewidth": 0,
             "ticks": ""
            },
            "type": "mesh3d"
           }
          ],
          "parcoords": [
           {
            "line": {
             "colorbar": {
              "outlinewidth": 0,
              "ticks": ""
             }
            },
            "type": "parcoords"
           }
          ],
          "pie": [
           {
            "automargin": true,
            "type": "pie"
           }
          ],
          "scatter": [
           {
            "fillpattern": {
             "fillmode": "overlay",
             "size": 10,
             "solidity": 0.2
            },
            "type": "scatter"
           }
          ],
          "scatter3d": [
           {
            "line": {
             "colorbar": {
              "outlinewidth": 0,
              "ticks": ""
             }
            },
            "marker": {
             "colorbar": {
              "outlinewidth": 0,
              "ticks": ""
             }
            },
            "type": "scatter3d"
           }
          ],
          "scattercarpet": [
           {
            "marker": {
             "colorbar": {
              "outlinewidth": 0,
              "ticks": ""
             }
            },
            "type": "scattercarpet"
           }
          ],
          "scattergeo": [
           {
            "marker": {
             "colorbar": {
              "outlinewidth": 0,
              "ticks": ""
             }
            },
            "type": "scattergeo"
           }
          ],
          "scattergl": [
           {
            "marker": {
             "colorbar": {
              "outlinewidth": 0,
              "ticks": ""
             }
            },
            "type": "scattergl"
           }
          ],
          "scattermapbox": [
           {
            "marker": {
             "colorbar": {
              "outlinewidth": 0,
              "ticks": ""
             }
            },
            "type": "scattermapbox"
           }
          ],
          "scatterpolar": [
           {
            "marker": {
             "colorbar": {
              "outlinewidth": 0,
              "ticks": ""
             }
            },
            "type": "scatterpolar"
           }
          ],
          "scatterpolargl": [
           {
            "marker": {
             "colorbar": {
              "outlinewidth": 0,
              "ticks": ""
             }
            },
            "type": "scatterpolargl"
           }
          ],
          "scatterternary": [
           {
            "marker": {
             "colorbar": {
              "outlinewidth": 0,
              "ticks": ""
             }
            },
            "type": "scatterternary"
           }
          ],
          "surface": [
           {
            "colorbar": {
             "outlinewidth": 0,
             "ticks": ""
            },
            "colorscale": [
             [
              0,
              "#0d0887"
             ],
             [
              0.1111111111111111,
              "#46039f"
             ],
             [
              0.2222222222222222,
              "#7201a8"
             ],
             [
              0.3333333333333333,
              "#9c179e"
             ],
             [
              0.4444444444444444,
              "#bd3786"
             ],
             [
              0.5555555555555556,
              "#d8576b"
             ],
             [
              0.6666666666666666,
              "#ed7953"
             ],
             [
              0.7777777777777778,
              "#fb9f3a"
             ],
             [
              0.8888888888888888,
              "#fdca26"
             ],
             [
              1,
              "#f0f921"
             ]
            ],
            "type": "surface"
           }
          ],
          "table": [
           {
            "cells": {
             "fill": {
              "color": "#EBF0F8"
             },
             "line": {
              "color": "white"
             }
            },
            "header": {
             "fill": {
              "color": "#C8D4E3"
             },
             "line": {
              "color": "white"
             }
            },
            "type": "table"
           }
          ]
         },
         "layout": {
          "annotationdefaults": {
           "arrowcolor": "#2a3f5f",
           "arrowhead": 0,
           "arrowwidth": 1
          },
          "autotypenumbers": "strict",
          "coloraxis": {
           "colorbar": {
            "outlinewidth": 0,
            "ticks": ""
           }
          },
          "colorscale": {
           "diverging": [
            [
             0,
             "#8e0152"
            ],
            [
             0.1,
             "#c51b7d"
            ],
            [
             0.2,
             "#de77ae"
            ],
            [
             0.3,
             "#f1b6da"
            ],
            [
             0.4,
             "#fde0ef"
            ],
            [
             0.5,
             "#f7f7f7"
            ],
            [
             0.6,
             "#e6f5d0"
            ],
            [
             0.7,
             "#b8e186"
            ],
            [
             0.8,
             "#7fbc41"
            ],
            [
             0.9,
             "#4d9221"
            ],
            [
             1,
             "#276419"
            ]
           ],
           "sequential": [
            [
             0,
             "#0d0887"
            ],
            [
             0.1111111111111111,
             "#46039f"
            ],
            [
             0.2222222222222222,
             "#7201a8"
            ],
            [
             0.3333333333333333,
             "#9c179e"
            ],
            [
             0.4444444444444444,
             "#bd3786"
            ],
            [
             0.5555555555555556,
             "#d8576b"
            ],
            [
             0.6666666666666666,
             "#ed7953"
            ],
            [
             0.7777777777777778,
             "#fb9f3a"
            ],
            [
             0.8888888888888888,
             "#fdca26"
            ],
            [
             1,
             "#f0f921"
            ]
           ],
           "sequentialminus": [
            [
             0,
             "#0d0887"
            ],
            [
             0.1111111111111111,
             "#46039f"
            ],
            [
             0.2222222222222222,
             "#7201a8"
            ],
            [
             0.3333333333333333,
             "#9c179e"
            ],
            [
             0.4444444444444444,
             "#bd3786"
            ],
            [
             0.5555555555555556,
             "#d8576b"
            ],
            [
             0.6666666666666666,
             "#ed7953"
            ],
            [
             0.7777777777777778,
             "#fb9f3a"
            ],
            [
             0.8888888888888888,
             "#fdca26"
            ],
            [
             1,
             "#f0f921"
            ]
           ]
          },
          "colorway": [
           "#636efa",
           "#EF553B",
           "#00cc96",
           "#ab63fa",
           "#FFA15A",
           "#19d3f3",
           "#FF6692",
           "#B6E880",
           "#FF97FF",
           "#FECB52"
          ],
          "font": {
           "color": "#2a3f5f"
          },
          "geo": {
           "bgcolor": "white",
           "lakecolor": "white",
           "landcolor": "#E5ECF6",
           "showlakes": true,
           "showland": true,
           "subunitcolor": "white"
          },
          "hoverlabel": {
           "align": "left"
          },
          "hovermode": "closest",
          "mapbox": {
           "style": "light"
          },
          "paper_bgcolor": "white",
          "plot_bgcolor": "#E5ECF6",
          "polar": {
           "angularaxis": {
            "gridcolor": "white",
            "linecolor": "white",
            "ticks": ""
           },
           "bgcolor": "#E5ECF6",
           "radialaxis": {
            "gridcolor": "white",
            "linecolor": "white",
            "ticks": ""
           }
          },
          "scene": {
           "xaxis": {
            "backgroundcolor": "#E5ECF6",
            "gridcolor": "white",
            "gridwidth": 2,
            "linecolor": "white",
            "showbackground": true,
            "ticks": "",
            "zerolinecolor": "white"
           },
           "yaxis": {
            "backgroundcolor": "#E5ECF6",
            "gridcolor": "white",
            "gridwidth": 2,
            "linecolor": "white",
            "showbackground": true,
            "ticks": "",
            "zerolinecolor": "white"
           },
           "zaxis": {
            "backgroundcolor": "#E5ECF6",
            "gridcolor": "white",
            "gridwidth": 2,
            "linecolor": "white",
            "showbackground": true,
            "ticks": "",
            "zerolinecolor": "white"
           }
          },
          "shapedefaults": {
           "line": {
            "color": "#2a3f5f"
           }
          },
          "ternary": {
           "aaxis": {
            "gridcolor": "white",
            "linecolor": "white",
            "ticks": ""
           },
           "baxis": {
            "gridcolor": "white",
            "linecolor": "white",
            "ticks": ""
           },
           "bgcolor": "#E5ECF6",
           "caxis": {
            "gridcolor": "white",
            "linecolor": "white",
            "ticks": ""
           }
          },
          "title": {
           "x": 0.05
          },
          "xaxis": {
           "automargin": true,
           "gridcolor": "white",
           "linecolor": "white",
           "ticks": "",
           "title": {
            "standoff": 15
           },
           "zerolinecolor": "white",
           "zerolinewidth": 2
          },
          "yaxis": {
           "automargin": true,
           "gridcolor": "white",
           "linecolor": "white",
           "ticks": "",
           "title": {
            "standoff": 15
           },
           "zerolinecolor": "white",
           "zerolinewidth": 2
          }
         }
        },
        "xaxis": {
         "title": {
          "text": "Volatility"
         }
        },
        "yaxis": {
         "title": {
          "text": "Return"
         }
        }
       }
      }
     },
     "metadata": {},
     "output_type": "display_data"
    }
   ],
   "source": [
    "ax = plotting.plot_efficient_frontier(cla, showfig=False, interactive=True)\n",
    "ax.show()"
   ]
  },
  {
   "cell_type": "markdown",
   "metadata": {},
   "source": [
    "# Test Data Performance"
   ]
  },
  {
   "cell_type": "code",
   "execution_count": 30,
   "metadata": {},
   "outputs": [
    {
     "name": "stdout",
     "output_type": "stream",
     "text": [
      "OrderedDict([('NASDAQ_Returns', 0.34564), ('MSCI_Returns', 0.65436)])\n",
      "Expected annual return: 6.4%\n",
      "Annual volatility: 16.3%\n",
      "Sharpe Ratio: 0.39\n"
     ]
    },
    {
     "data": {
      "text/plain": [
       "(0.06356150806028586, 0.16276295158083617, 0.3905158234287614)"
      ]
     },
     "execution_count": 30,
     "metadata": {},
     "output_type": "execute_result"
    }
   ],
   "source": [
    "# Min-Variance Model\n",
    "mu = mean_historical_return(test_df, returns_data = True, frequency = 12)\n",
    "S = risk_models.CovarianceShrinkage(test_df, returns_data = True, frequency = 12).ledoit_wolf()\n",
    "ef = EfficientFrontier(mu, S, weight_bounds=(-1,1))\n",
    "ef.min_volatility()\n",
    "MV_weight_test = ef.clean_weights()\n",
    "print(MV_weight_test)\n",
    "ef.portfolio_performance(verbose=True)\n"
   ]
  },
  {
   "cell_type": "code",
   "execution_count": 31,
   "metadata": {},
   "outputs": [
    {
     "name": "stdout",
     "output_type": "stream",
     "text": [
      "OrderedDict([('NASDAQ_Returns', 1.0), ('MSCI_Returns', 0.0)])\n",
      "Expected annual return: 14.4%\n",
      "Annual volatility: 21.4%\n",
      "Sharpe Ratio: 0.67\n"
     ]
    },
    {
     "data": {
      "text/plain": [
       "(0.14416628198315684, 0.21397468374249248, 0.6737539201443734)"
      ]
     },
     "execution_count": 31,
     "metadata": {},
     "output_type": "execute_result"
    }
   ],
   "source": [
    "# Max-Sharpe\n",
    "ef = EfficientFrontier(mu, S, weight_bounds=(-1,1))\n",
    "ef.max_sharpe()\n",
    "MS_weight_test = ef.clean_weights()\n",
    "print(MS_weight_test)\n",
    "ef.portfolio_performance(verbose=True)"
   ]
  },
  {
   "cell_type": "code",
   "execution_count": 32,
   "metadata": {},
   "outputs": [
    {
     "data": {
      "image/png": "[encoded data removed]",
      "text/plain": [
       "<Figure size 1200x600 with 1 Axes>"
      ]
     },
     "metadata": {},
     "output_type": "display_data"
    }
   ],
   "source": [
    "# Define the weights for both models in test datasets\n",
    "min_var_train_weights = {'NASDAQ_Returns': MV_weight_train['NASDAQ_Returns'], 'MSCI_Returns': MV_weight_train['MSCI_Returns']}\n",
    "max_sharpe_train_weights = {'NASDAQ_Returns': MS_weight_train['NASDAQ_Returns'], 'MSCI_Returns': MS_weight_train['MSCI_Returns']}\n",
    "\n",
    "min_var_test_weights = {'NASDAQ_Returns': MV_weight_test['NASDAQ_Returns'], 'MSCI_Returns': MV_weight_test['MSCI_Returns']}\n",
    "max_sharpe_test_weights = {'NASDAQ_Returns': MS_weight_test['NASDAQ_Returns'], 'MSCI_Returns': MS_weight_test['MSCI_Returns']}\n",
    "\n",
    "# Initial investment\n",
    "initial_investment = 10\n",
    "\n",
    "# Function to compute portfolio value using returns\n",
    "def compute_portfolio_value_with_returns(df, weights, initial_investment):\n",
    "    # Calculate weighted portfolio returns\n",
    "    portfolio_returns = (\n",
    "        df['NASDAQ_Returns'] * weights['NASDAQ_Returns'] +\n",
    "        df['MSCI_Returns'] * weights['MSCI_Returns']\n",
    "    )\n",
    "    # Compute cumulative portfolio value\n",
    "    portfolio_value = initial_investment * (1 + portfolio_returns).cumprod()\n",
    "    return portfolio_value\n",
    "\n",
    "\n",
    "# Calculate portfolio performance for test data\n",
    "train_df_returns = train_df.copy()  # Ensure a copy of the test DataFrame\n",
    "test_df_returns = test_df.copy()  # Ensure a copy of the test DataFrame\n",
    "\n",
    "train_df_returns['MinVar_Train'] = compute_portfolio_value_with_returns(\n",
    "    train_df_returns, min_var_train_weights, initial_investment)\n",
    "\n",
    "train_df_returns['MaxSharpe_Train'] = compute_portfolio_value_with_returns(\n",
    "    train_df_returns, max_sharpe_train_weights, initial_investment)\n",
    "\n",
    "test_df_returns['MinVar_Test'] = compute_portfolio_value_with_returns(\n",
    "    test_df_returns, min_var_test_weights, train_df_returns['MinVar_Train'].iloc[-1])\n",
    "\n",
    "test_df_returns['MaxSharpe_Test'] = compute_portfolio_value_with_returns(\n",
    "    test_df_returns, max_sharpe_test_weights, train_df_returns['MaxSharpe_Train'].iloc[-1])\n",
    "\n",
    "# Plot the portfolio performance\n",
    "plt.figure(figsize=(12, 6))\n",
    "\n",
    "# Training performance\n",
    "plt.plot(train_df_returns.index, train_df_returns['MaxSharpe_Train'], label='MaxSharpe Train', color='green')\n",
    "plt.plot(train_df_returns.index, train_df_returns['MinVar_Train'], label='MinVar Train', color='blue')\n",
    "\n",
    "# Testing performance\n",
    "plt.plot(test_df_returns.index, test_df_returns['MinVar_Test'], label='MinVar Test', color='blue', linestyle='dashed')\n",
    "plt.plot(test_df_returns.index, test_df_returns['MaxSharpe_Test'], label='MaxSharpe Test', color='green', linestyle='dashed')\n",
    "\n",
    "# Add a vertical line for the split date\n",
    "plt.axvline(pd.to_datetime('2022-01-01'), color='red', linestyle='--', label='Split Date')\n",
    "\n",
    "# Add labels, title, and legend\n",
    "plt.title('Portfolio Performance Comparison (Min-Variance vs Max Sharpe)')\n",
    "plt.xlabel('Date')\n",
    "plt.ylabel('Portfolio Value (Starting at $10)')\n",
    "plt.legend()\n",
    "plt.grid()\n",
    "plt.show()"
   ]
  }
 ],
 "metadata": {
  "kernelspec": {
   "display_name": "ML_tf",
   "language": "python",
   "name": "python3"
  },
  "language_info": {
   "codemirror_mode": {
    "name": "ipython",
    "version": 3
   },
   "file_extension": ".py",
   "mimetype": "text/x-python",
   "name": "python",
   "nbconvert_exporter": "python",
   "pygments_lexer": "ipython3",
   "version": "3.9.20"
  }
 },
 "nbformat": 4,
 "nbformat_minor": 2
}
