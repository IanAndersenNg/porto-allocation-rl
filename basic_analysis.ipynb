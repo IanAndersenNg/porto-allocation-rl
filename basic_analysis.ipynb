{
 "cells": [
  {
   "cell_type": "code",
   "execution_count": 2,
   "id": "41396189",
   "metadata": {},
   "outputs": [],
   "source": [
    "import pandas as pd\n",
    "import matplotlib.pyplot as plt"
   ]
  },
  {
   "cell_type": "code",
   "execution_count": 3,
   "id": "a11f70a9",
   "metadata": {},
   "outputs": [
    {
     "data": {
      "text/html": [
       "<div>\n",
       "<style scoped>\n",
       "    .dataframe tbody tr th:only-of-type {\n",
       "        vertical-align: middle;\n",
       "    }\n",
       "\n",
       "    .dataframe tbody tr th {\n",
       "        vertical-align: top;\n",
       "    }\n",
       "\n",
       "    .dataframe thead th {\n",
       "        text-align: right;\n",
       "    }\n",
       "</style>\n",
       "<table border=\"1\" class=\"dataframe\">\n",
       "  <thead>\n",
       "    <tr style=\"text-align: right;\">\n",
       "      <th></th>\n",
       "      <th>Date</th>\n",
       "      <th>NASDAQ_Returns</th>\n",
       "    </tr>\n",
       "  </thead>\n",
       "  <tbody>\n",
       "    <tr>\n",
       "      <th>0</th>\n",
       "      <td>2010-02-28</td>\n",
       "      <td>4.54</td>\n",
       "    </tr>\n",
       "    <tr>\n",
       "      <th>1</th>\n",
       "      <td>2010-03-31</td>\n",
       "      <td>7.66</td>\n",
       "    </tr>\n",
       "    <tr>\n",
       "      <th>2</th>\n",
       "      <td>2010-04-30</td>\n",
       "      <td>2.16</td>\n",
       "    </tr>\n",
       "    <tr>\n",
       "      <th>3</th>\n",
       "      <td>2010-05-31</td>\n",
       "      <td>-7.35</td>\n",
       "    </tr>\n",
       "    <tr>\n",
       "      <th>4</th>\n",
       "      <td>2010-06-30</td>\n",
       "      <td>-6.10</td>\n",
       "    </tr>\n",
       "    <tr>\n",
       "      <th>...</th>\n",
       "      <td>...</td>\n",
       "      <td>...</td>\n",
       "    </tr>\n",
       "    <tr>\n",
       "      <th>172</th>\n",
       "      <td>2024-06-30</td>\n",
       "      <td>6.22</td>\n",
       "    </tr>\n",
       "    <tr>\n",
       "      <th>173</th>\n",
       "      <td>2024-07-31</td>\n",
       "      <td>-1.63</td>\n",
       "    </tr>\n",
       "    <tr>\n",
       "      <th>174</th>\n",
       "      <td>2024-08-31</td>\n",
       "      <td>1.14</td>\n",
       "    </tr>\n",
       "    <tr>\n",
       "      <th>175</th>\n",
       "      <td>2024-09-30</td>\n",
       "      <td>2.53</td>\n",
       "    </tr>\n",
       "    <tr>\n",
       "      <th>176</th>\n",
       "      <td>2024-10-31</td>\n",
       "      <td>-0.85</td>\n",
       "    </tr>\n",
       "  </tbody>\n",
       "</table>\n",
       "<p>177 rows × 2 columns</p>\n",
       "</div>"
      ],
      "text/plain": [
       "          Date  NASDAQ_Returns\n",
       "0   2010-02-28            4.54\n",
       "1   2010-03-31            7.66\n",
       "2   2010-04-30            2.16\n",
       "3   2010-05-31           -7.35\n",
       "4   2010-06-30           -6.10\n",
       "..         ...             ...\n",
       "172 2024-06-30            6.22\n",
       "173 2024-07-31           -1.63\n",
       "174 2024-08-31            1.14\n",
       "175 2024-09-30            2.53\n",
       "176 2024-10-31           -0.85\n",
       "\n",
       "[177 rows x 2 columns]"
      ]
     },
     "execution_count": 3,
     "metadata": {},
     "output_type": "execute_result"
    }
   ],
   "source": [
    "nasdaq_etf = pd.read_excel(\"./data/data1.xlsx\", skiprows=4, usecols=[2, 3], names=[\"Date\", \"NASDAQ_Returns\"])\n",
    "nasdaq_etf[\"NASDAQ_Returns\"] = pd.to_numeric(nasdaq_etf[\"NASDAQ_Returns\"], errors=\"coerce\")\n",
    "nasdaq_etf[\"Date\"] = pd.to_datetime(nasdaq_etf[\"Date\"], errors=\"coerce\")\n",
    "nasdaq_etf = nasdaq_etf.dropna().reset_index(drop=True)\n",
    "nasdaq_etf"
   ]
  },
  {
   "cell_type": "code",
   "execution_count": 4,
   "id": "9c2162d6",
   "metadata": {},
   "outputs": [
    {
     "data": {
      "text/html": [
       "<div>\n",
       "<style scoped>\n",
       "    .dataframe tbody tr th:only-of-type {\n",
       "        vertical-align: middle;\n",
       "    }\n",
       "\n",
       "    .dataframe tbody tr th {\n",
       "        vertical-align: top;\n",
       "    }\n",
       "\n",
       "    .dataframe thead th {\n",
       "        text-align: right;\n",
       "    }\n",
       "</style>\n",
       "<table border=\"1\" class=\"dataframe\">\n",
       "  <thead>\n",
       "    <tr style=\"text-align: right;\">\n",
       "      <th></th>\n",
       "      <th>Date</th>\n",
       "      <th>MSCI_Returns</th>\n",
       "    </tr>\n",
       "  </thead>\n",
       "  <tbody>\n",
       "    <tr>\n",
       "      <th>0</th>\n",
       "      <td>2003-05-31</td>\n",
       "      <td>8.19</td>\n",
       "    </tr>\n",
       "    <tr>\n",
       "      <th>1</th>\n",
       "      <td>2003-06-30</td>\n",
       "      <td>4.86</td>\n",
       "    </tr>\n",
       "    <tr>\n",
       "      <th>2</th>\n",
       "      <td>2003-07-31</td>\n",
       "      <td>5.93</td>\n",
       "    </tr>\n",
       "    <tr>\n",
       "      <th>3</th>\n",
       "      <td>2003-08-31</td>\n",
       "      <td>7.11</td>\n",
       "    </tr>\n",
       "    <tr>\n",
       "      <th>4</th>\n",
       "      <td>2003-09-30</td>\n",
       "      <td>0.65</td>\n",
       "    </tr>\n",
       "    <tr>\n",
       "      <th>...</th>\n",
       "      <td>...</td>\n",
       "      <td>...</td>\n",
       "    </tr>\n",
       "    <tr>\n",
       "      <th>253</th>\n",
       "      <td>2024-06-30</td>\n",
       "      <td>3.10</td>\n",
       "    </tr>\n",
       "    <tr>\n",
       "      <th>254</th>\n",
       "      <td>2024-07-31</td>\n",
       "      <td>0.70</td>\n",
       "    </tr>\n",
       "    <tr>\n",
       "      <th>255</th>\n",
       "      <td>2024-08-31</td>\n",
       "      <td>0.99</td>\n",
       "    </tr>\n",
       "    <tr>\n",
       "      <th>256</th>\n",
       "      <td>2024-09-30</td>\n",
       "      <td>5.73</td>\n",
       "    </tr>\n",
       "    <tr>\n",
       "      <th>257</th>\n",
       "      <td>2024-10-31</td>\n",
       "      <td>-3.58</td>\n",
       "    </tr>\n",
       "  </tbody>\n",
       "</table>\n",
       "<p>258 rows × 2 columns</p>\n",
       "</div>"
      ],
      "text/plain": [
       "          Date  MSCI_Returns\n",
       "0   2003-05-31          8.19\n",
       "1   2003-06-30          4.86\n",
       "2   2003-07-31          5.93\n",
       "3   2003-08-31          7.11\n",
       "4   2003-09-30          0.65\n",
       "..         ...           ...\n",
       "253 2024-06-30          3.10\n",
       "254 2024-07-31          0.70\n",
       "255 2024-08-31          0.99\n",
       "256 2024-09-30          5.73\n",
       "257 2024-10-31         -3.58\n",
       "\n",
       "[258 rows x 2 columns]"
      ]
     },
     "execution_count": 4,
     "metadata": {},
     "output_type": "execute_result"
    }
   ],
   "source": [
    "em_etf = pd.read_excel(\"./data/data1.xlsx\", skiprows=4, usecols=[0, 1], names=[\"Date\", \"MSCI_Returns\"])\n",
    "em_etf[\"MSCI_Returns\"] = pd.to_numeric(em_etf[\"MSCI_Returns\"], errors=\"coerce\")\n",
    "em_etf[\"Date\"] = pd.to_datetime(em_etf[\"Date\"], errors=\"coerce\")\n",
    "em_etf = em_etf.dropna().reset_index(drop=True)\n",
    "em_etf"
   ]
  },
  {
   "cell_type": "code",
   "execution_count": 5,
   "id": "f43e950d",
   "metadata": {},
   "outputs": [
    {
     "data": {
      "text/html": [
       "<div>\n",
       "<style scoped>\n",
       "    .dataframe tbody tr th:only-of-type {\n",
       "        vertical-align: middle;\n",
       "    }\n",
       "\n",
       "    .dataframe tbody tr th {\n",
       "        vertical-align: top;\n",
       "    }\n",
       "\n",
       "    .dataframe thead th {\n",
       "        text-align: right;\n",
       "    }\n",
       "</style>\n",
       "<table border=\"1\" class=\"dataframe\">\n",
       "  <thead>\n",
       "    <tr style=\"text-align: right;\">\n",
       "      <th></th>\n",
       "      <th>Date</th>\n",
       "      <th>BOND_Returns</th>\n",
       "    </tr>\n",
       "  </thead>\n",
       "  <tbody>\n",
       "    <tr>\n",
       "      <th>0</th>\n",
       "      <td>2003-10-31</td>\n",
       "      <td>-0.96</td>\n",
       "    </tr>\n",
       "    <tr>\n",
       "      <th>1</th>\n",
       "      <td>2003-11-30</td>\n",
       "      <td>0.22</td>\n",
       "    </tr>\n",
       "    <tr>\n",
       "      <th>2</th>\n",
       "      <td>2003-12-31</td>\n",
       "      <td>1.03</td>\n",
       "    </tr>\n",
       "    <tr>\n",
       "      <th>3</th>\n",
       "      <td>2004-01-31</td>\n",
       "      <td>0.77</td>\n",
       "    </tr>\n",
       "    <tr>\n",
       "      <th>4</th>\n",
       "      <td>2004-02-29</td>\n",
       "      <td>1.05</td>\n",
       "    </tr>\n",
       "    <tr>\n",
       "      <th>...</th>\n",
       "      <td>...</td>\n",
       "      <td>...</td>\n",
       "    </tr>\n",
       "    <tr>\n",
       "      <th>287</th>\n",
       "      <td>2024-06-30</td>\n",
       "      <td>2.00</td>\n",
       "    </tr>\n",
       "    <tr>\n",
       "      <th>288</th>\n",
       "      <td>2024-07-31</td>\n",
       "      <td>7.45</td>\n",
       "    </tr>\n",
       "    <tr>\n",
       "      <th>289</th>\n",
       "      <td>2024-08-31</td>\n",
       "      <td>5.45</td>\n",
       "    </tr>\n",
       "    <tr>\n",
       "      <th>290</th>\n",
       "      <td>2024-09-30</td>\n",
       "      <td>3.18</td>\n",
       "    </tr>\n",
       "    <tr>\n",
       "      <th>291</th>\n",
       "      <td>2024-10-31</td>\n",
       "      <td>-3.59</td>\n",
       "    </tr>\n",
       "  </tbody>\n",
       "</table>\n",
       "<p>292 rows × 2 columns</p>\n",
       "</div>"
      ],
      "text/plain": [
       "          Date  BOND_Returns\n",
       "0   2003-10-31         -0.96\n",
       "1   2003-11-30          0.22\n",
       "2   2003-12-31          1.03\n",
       "3   2004-01-31          0.77\n",
       "4   2004-02-29          1.05\n",
       "..         ...           ...\n",
       "287 2024-06-30          2.00\n",
       "288 2024-07-31          7.45\n",
       "289 2024-08-31          5.45\n",
       "290 2024-09-30          3.18\n",
       "291 2024-10-31         -3.59\n",
       "\n",
       "[292 rows x 2 columns]"
      ]
     },
     "execution_count": 5,
     "metadata": {},
     "output_type": "execute_result"
    }
   ],
   "source": [
    "bond_etf = pd.read_excel(\"./data/data1.xlsx\", skiprows=4, usecols=[8, 9], names=[\"Date\", \"BOND_Returns\"])\n",
    "bond_etf[\"BOND_Returns\"] = pd.to_numeric(bond_etf[\"BOND_Returns\"], errors=\"coerce\")\n",
    "bond_etf[\"Date\"] = pd.to_datetime(bond_etf[\"Date\"], errors=\"coerce\")\n",
    "bond_etf = bond_etf.dropna().reset_index(drop=True)\n",
    "bond_etf"
   ]
  },
  {
   "cell_type": "code",
   "execution_count": 6,
   "id": "9bd6e5a2",
   "metadata": {},
   "outputs": [
    {
     "data": {
      "text/html": [
       "<div>\n",
       "<style scoped>\n",
       "    .dataframe tbody tr th:only-of-type {\n",
       "        vertical-align: middle;\n",
       "    }\n",
       "\n",
       "    .dataframe tbody tr th {\n",
       "        vertical-align: top;\n",
       "    }\n",
       "\n",
       "    .dataframe thead th {\n",
       "        text-align: right;\n",
       "    }\n",
       "</style>\n",
       "<table border=\"1\" class=\"dataframe\">\n",
       "  <thead>\n",
       "    <tr style=\"text-align: right;\">\n",
       "      <th></th>\n",
       "      <th>Date</th>\n",
       "      <th>NASDAQ_Returns</th>\n",
       "      <th>MSCI_Returns</th>\n",
       "      <th>BOND_Returns</th>\n",
       "    </tr>\n",
       "  </thead>\n",
       "  <tbody>\n",
       "    <tr>\n",
       "      <th>0</th>\n",
       "      <td>2010-02-28</td>\n",
       "      <td>4.54</td>\n",
       "      <td>0.41</td>\n",
       "      <td>0.33</td>\n",
       "    </tr>\n",
       "    <tr>\n",
       "      <th>1</th>\n",
       "      <td>2010-03-31</td>\n",
       "      <td>7.66</td>\n",
       "      <td>7.93</td>\n",
       "      <td>-0.12</td>\n",
       "    </tr>\n",
       "    <tr>\n",
       "      <th>2</th>\n",
       "      <td>2010-04-30</td>\n",
       "      <td>2.16</td>\n",
       "      <td>0.71</td>\n",
       "      <td>1.05</td>\n",
       "    </tr>\n",
       "    <tr>\n",
       "      <th>3</th>\n",
       "      <td>2010-05-31</td>\n",
       "      <td>-7.35</td>\n",
       "      <td>-9.70</td>\n",
       "      <td>0.83</td>\n",
       "    </tr>\n",
       "    <tr>\n",
       "      <th>4</th>\n",
       "      <td>2010-06-30</td>\n",
       "      <td>-6.10</td>\n",
       "      <td>-0.55</td>\n",
       "      <td>1.65</td>\n",
       "    </tr>\n",
       "    <tr>\n",
       "      <th>...</th>\n",
       "      <td>...</td>\n",
       "      <td>...</td>\n",
       "      <td>...</td>\n",
       "      <td>...</td>\n",
       "    </tr>\n",
       "    <tr>\n",
       "      <th>211</th>\n",
       "      <td>2024-08-31</td>\n",
       "      <td>1.14</td>\n",
       "      <td>0.99</td>\n",
       "      <td>5.45</td>\n",
       "    </tr>\n",
       "    <tr>\n",
       "      <th>212</th>\n",
       "      <td>2024-09-30</td>\n",
       "      <td>2.53</td>\n",
       "      <td>5.73</td>\n",
       "      <td>1.34</td>\n",
       "    </tr>\n",
       "    <tr>\n",
       "      <th>213</th>\n",
       "      <td>2024-09-30</td>\n",
       "      <td>2.53</td>\n",
       "      <td>5.73</td>\n",
       "      <td>3.18</td>\n",
       "    </tr>\n",
       "    <tr>\n",
       "      <th>214</th>\n",
       "      <td>2024-10-31</td>\n",
       "      <td>-0.85</td>\n",
       "      <td>-3.58</td>\n",
       "      <td>-2.48</td>\n",
       "    </tr>\n",
       "    <tr>\n",
       "      <th>215</th>\n",
       "      <td>2024-10-31</td>\n",
       "      <td>-0.85</td>\n",
       "      <td>-3.58</td>\n",
       "      <td>-3.59</td>\n",
       "    </tr>\n",
       "  </tbody>\n",
       "</table>\n",
       "<p>216 rows × 4 columns</p>\n",
       "</div>"
      ],
      "text/plain": [
       "          Date  NASDAQ_Returns  MSCI_Returns  BOND_Returns\n",
       "0   2010-02-28            4.54          0.41          0.33\n",
       "1   2010-03-31            7.66          7.93         -0.12\n",
       "2   2010-04-30            2.16          0.71          1.05\n",
       "3   2010-05-31           -7.35         -9.70          0.83\n",
       "4   2010-06-30           -6.10         -0.55          1.65\n",
       "..         ...             ...           ...           ...\n",
       "211 2024-08-31            1.14          0.99          5.45\n",
       "212 2024-09-30            2.53          5.73          1.34\n",
       "213 2024-09-30            2.53          5.73          3.18\n",
       "214 2024-10-31           -0.85         -3.58         -2.48\n",
       "215 2024-10-31           -0.85         -3.58         -3.59\n",
       "\n",
       "[216 rows x 4 columns]"
      ]
     },
     "execution_count": 6,
     "metadata": {},
     "output_type": "execute_result"
    }
   ],
   "source": [
    "data = pd.merge(nasdaq_etf, em_etf, on=\"Date\", how=\"inner\")\n",
    "data = pd.merge(data, bond_etf, on=\"Date\", how=\"inner\")\n",
    "data"
   ]
  },
  {
   "cell_type": "code",
   "execution_count": 7,
   "id": "1735e98c",
   "metadata": {},
   "outputs": [
    {
     "data": {
      "text/plain": [
       "[<matplotlib.lines.Line2D at 0x11fb1f490>]"
      ]
     },
     "execution_count": 7,
     "metadata": {},
     "output_type": "execute_result"
    },
    {
     "data": {
      "image/png": "[encoded data removed]",
      "text/plain": [
       "<Figure size 640x480 with 1 Axes>"
      ]
     },
     "metadata": {},
     "output_type": "display_data"
    }
   ],
   "source": [
    "plt.plot(data.NASDAQ_Returns)\n",
    "plt.plot(data.MSCI_Returns)\n",
    "plt.plot(data.BOND_Returns)\n",
    "# plt.plot(data.SP500_Returns)"
   ]
  },
  {
   "cell_type": "code",
   "execution_count": 8,
   "id": "fb1877f1",
   "metadata": {},
   "outputs": [
    {
     "data": {
      "text/html": [
       "<div>\n",
       "<style scoped>\n",
       "    .dataframe tbody tr th:only-of-type {\n",
       "        vertical-align: middle;\n",
       "    }\n",
       "\n",
       "    .dataframe tbody tr th {\n",
       "        vertical-align: top;\n",
       "    }\n",
       "\n",
       "    .dataframe thead th {\n",
       "        text-align: right;\n",
       "    }\n",
       "</style>\n",
       "<table border=\"1\" class=\"dataframe\">\n",
       "  <thead>\n",
       "    <tr style=\"text-align: right;\">\n",
       "      <th></th>\n",
       "      <th>NASDAQ_Returns</th>\n",
       "      <th>MSCI_Returns</th>\n",
       "      <th>BOND_Returns</th>\n",
       "    </tr>\n",
       "  </thead>\n",
       "  <tbody>\n",
       "    <tr>\n",
       "      <th>count</th>\n",
       "      <td>216.000000</td>\n",
       "      <td>216.000000</td>\n",
       "      <td>216.000000</td>\n",
       "    </tr>\n",
       "    <tr>\n",
       "      <th>mean</th>\n",
       "      <td>1.449491</td>\n",
       "      <td>0.293935</td>\n",
       "      <td>0.197130</td>\n",
       "    </tr>\n",
       "    <tr>\n",
       "      <th>std</th>\n",
       "      <td>5.269086</td>\n",
       "      <td>5.107867</td>\n",
       "      <td>2.853881</td>\n",
       "    </tr>\n",
       "    <tr>\n",
       "      <th>min</th>\n",
       "      <td>-13.360000</td>\n",
       "      <td>-15.420000</td>\n",
       "      <td>-12.690000</td>\n",
       "    </tr>\n",
       "    <tr>\n",
       "      <th>25%</th>\n",
       "      <td>-1.637500</td>\n",
       "      <td>-2.780000</td>\n",
       "      <td>-0.640000</td>\n",
       "    </tr>\n",
       "    <tr>\n",
       "      <th>50%</th>\n",
       "      <td>1.860000</td>\n",
       "      <td>0.375000</td>\n",
       "      <td>0.125000</td>\n",
       "    </tr>\n",
       "    <tr>\n",
       "      <th>75%</th>\n",
       "      <td>5.045000</td>\n",
       "      <td>3.100000</td>\n",
       "      <td>1.062500</td>\n",
       "    </tr>\n",
       "    <tr>\n",
       "      <th>max</th>\n",
       "      <td>15.190000</td>\n",
       "      <td>16.040000</td>\n",
       "      <td>12.260000</td>\n",
       "    </tr>\n",
       "  </tbody>\n",
       "</table>\n",
       "</div>"
      ],
      "text/plain": [
       "       NASDAQ_Returns  MSCI_Returns  BOND_Returns\n",
       "count      216.000000    216.000000    216.000000\n",
       "mean         1.449491      0.293935      0.197130\n",
       "std          5.269086      5.107867      2.853881\n",
       "min        -13.360000    -15.420000    -12.690000\n",
       "25%         -1.637500     -2.780000     -0.640000\n",
       "50%          1.860000      0.375000      0.125000\n",
       "75%          5.045000      3.100000      1.062500\n",
       "max         15.190000     16.040000     12.260000"
      ]
     },
     "execution_count": 8,
     "metadata": {},
     "output_type": "execute_result"
    }
   ],
   "source": [
    "data.describe()"
   ]
  },
  {
   "cell_type": "code",
   "execution_count": 9,
   "id": "a9e1dfce",
   "metadata": {},
   "outputs": [
    {
     "name": "stderr",
     "output_type": "stream",
     "text": [
      "/var/folders/pl/y0__kl1j73g_lg4xxddrtzgh0000gn/T/ipykernel_4593/2627137660.py:1: FutureWarning: The default value of numeric_only in DataFrame.corr is deprecated. In a future version, it will default to False. Select only valid columns or specify the value of numeric_only to silence this warning.\n",
      "  data.corr()\n"
     ]
    },
    {
     "data": {
      "text/html": [
       "<div>\n",
       "<style scoped>\n",
       "    .dataframe tbody tr th:only-of-type {\n",
       "        vertical-align: middle;\n",
       "    }\n",
       "\n",
       "    .dataframe tbody tr th {\n",
       "        vertical-align: top;\n",
       "    }\n",
       "\n",
       "    .dataframe thead th {\n",
       "        text-align: right;\n",
       "    }\n",
       "</style>\n",
       "<table border=\"1\" class=\"dataframe\">\n",
       "  <thead>\n",
       "    <tr style=\"text-align: right;\">\n",
       "      <th></th>\n",
       "      <th>NASDAQ_Returns</th>\n",
       "      <th>MSCI_Returns</th>\n",
       "      <th>BOND_Returns</th>\n",
       "    </tr>\n",
       "  </thead>\n",
       "  <tbody>\n",
       "    <tr>\n",
       "      <th>NASDAQ_Returns</th>\n",
       "      <td>1.000000</td>\n",
       "      <td>0.658293</td>\n",
       "      <td>0.456417</td>\n",
       "    </tr>\n",
       "    <tr>\n",
       "      <th>MSCI_Returns</th>\n",
       "      <td>0.658293</td>\n",
       "      <td>1.000000</td>\n",
       "      <td>0.367289</td>\n",
       "    </tr>\n",
       "    <tr>\n",
       "      <th>BOND_Returns</th>\n",
       "      <td>0.456417</td>\n",
       "      <td>0.367289</td>\n",
       "      <td>1.000000</td>\n",
       "    </tr>\n",
       "  </tbody>\n",
       "</table>\n",
       "</div>"
      ],
      "text/plain": [
       "                NASDAQ_Returns  MSCI_Returns  BOND_Returns\n",
       "NASDAQ_Returns        1.000000      0.658293      0.456417\n",
       "MSCI_Returns          0.658293      1.000000      0.367289\n",
       "BOND_Returns          0.456417      0.367289      1.000000"
      ]
     },
     "execution_count": 9,
     "metadata": {},
     "output_type": "execute_result"
    }
   ],
   "source": [
    "data.corr()\n",
    "# NASDAQ and MSCI is correlated"
   ]
  },
  {
   "cell_type": "code",
   "execution_count": 51,
   "id": "9a30c73a",
   "metadata": {},
   "outputs": [
    {
     "name": "stdout",
     "output_type": "stream",
     "text": [
      "0.2712976541507267\n",
      "0.05363005003353196\n",
      "0.062066236848421164\n"
     ]
    }
   ],
   "source": [
    "# Sharpe ratio over the years\n",
    "print((data[\"NASDAQ_Returns\"].mean() - 0.02) / data[\"NASDAQ_Returns\"].std())\n",
    "print((data[\"MSCI_Returns\"].mean() - 0.02) / data[\"MSCI_Returns\"].std())\n",
    "print((data[\"BOND_Returns\"].mean() - 0.02) / data[\"BOND_Returns\"].std())\n",
    "# print(data[\"SP500_Returns\"].mean() / data[\"SP500_Returns\"].std())\n"
   ]
  },
  {
   "cell_type": "code",
   "execution_count": 49,
   "id": "37cc09b5",
   "metadata": {},
   "outputs": [
    {
     "name": "stdout",
     "output_type": "stream",
     "text": [
      "0.07719912141949285\n",
      "0.07324997587009599\n",
      "0.0650525681377475\n"
     ]
    }
   ],
   "source": [
    "# Sharpe ratio about simple strategies between EM and AGG (approximately)\n",
    "strategies = pd.DataFrame()\n",
    "strategies[\"A2\"] = 0.75 * data[\"BOND_Returns\"] + 0.25 * data[\"MSCI_Returns\"]\n",
    "strategies[\"A3\"] = (data[\"BOND_Returns\"] + data[\"MSCI_Returns\"]) / 2\n",
    "strategies[\"A4\"] = 0.25 * data[\"BOND_Returns\"] + 0.75 * data[\"MSCI_Returns\"]\n",
    "print(strategies[\"A2\"].mean() / strategies[\"A2\"].std())\n",
    "print(strategies[\"A3\"].mean() / strategies[\"A3\"].std())\n",
    "print(strategies[\"A4\"].mean() / strategies[\"A4\"].std())\n"
   ]
  },
  {
   "cell_type": "code",
   "execution_count": 10,
   "id": "411b38f6",
   "metadata": {},
   "outputs": [
    {
     "name": "stdout",
     "output_type": "stream",
     "text": [
      "0.23744459456976313\n",
      "0.18450459805600028\n",
      "0.12138233738655792\n"
     ]
    }
   ],
   "source": [
    "# Sharpe ratio about simple strategies between NASDAQ and EM(approximately)\n",
    "strategies = pd.DataFrame()\n",
    "strategies[\"A2\"] = 0.75 * data[\"NASDAQ_Returns\"] + 0.25 * data[\"MSCI_Returns\"]\n",
    "strategies[\"A3\"] = (data[\"NASDAQ_Returns\"] + data[\"MSCI_Returns\"]) / 2\n",
    "strategies[\"A4\"] = 0.25 * data[\"NASDAQ_Returns\"] + 0.75 * data[\"MSCI_Returns\"]\n",
    "print(strategies[\"A2\"].mean() / strategies[\"A2\"].std())\n",
    "print(strategies[\"A3\"].mean() / strategies[\"A3\"].std())\n",
    "print(strategies[\"A4\"].mean() / strategies[\"A4\"].std())\n",
    "# All in NASDAQ seem to be the best option"
   ]
  },
  {
   "cell_type": "code",
   "execution_count": null,
   "id": "47bedfeb",
   "metadata": {},
   "outputs": [],
   "source": []
  },
  {
   "cell_type": "markdown",
   "id": "60bba192",
   "metadata": {},
   "source": [
    "## Data used in the paper\n"
   ]
  },
  {
   "cell_type": "code",
   "execution_count": 11,
   "id": "031150e8",
   "metadata": {},
   "outputs": [
    {
     "data": {
      "text/html": [
       "<div>\n",
       "<style scoped>\n",
       "    .dataframe tbody tr th:only-of-type {\n",
       "        vertical-align: middle;\n",
       "    }\n",
       "\n",
       "    .dataframe tbody tr th {\n",
       "        vertical-align: top;\n",
       "    }\n",
       "\n",
       "    .dataframe thead th {\n",
       "        text-align: right;\n",
       "    }\n",
       "</style>\n",
       "<table border=\"1\" class=\"dataframe\">\n",
       "  <thead>\n",
       "    <tr style=\"text-align: right;\">\n",
       "      <th></th>\n",
       "      <th>year</th>\n",
       "      <th>SP500</th>\n",
       "      <th>AGG</th>\n",
       "    </tr>\n",
       "  </thead>\n",
       "  <tbody>\n",
       "    <tr>\n",
       "      <th>count</th>\n",
       "      <td>41.000000</td>\n",
       "      <td>41.000000</td>\n",
       "      <td>41.000000</td>\n",
       "    </tr>\n",
       "    <tr>\n",
       "      <th>mean</th>\n",
       "      <td>1996.000000</td>\n",
       "      <td>12.639268</td>\n",
       "      <td>7.751707</td>\n",
       "    </tr>\n",
       "    <tr>\n",
       "      <th>std</th>\n",
       "      <td>11.979149</td>\n",
       "      <td>16.214794</td>\n",
       "      <td>6.850808</td>\n",
       "    </tr>\n",
       "    <tr>\n",
       "      <th>min</th>\n",
       "      <td>1976.000000</td>\n",
       "      <td>-37.000000</td>\n",
       "      <td>-2.920000</td>\n",
       "    </tr>\n",
       "    <tr>\n",
       "      <th>25%</th>\n",
       "      <td>1986.000000</td>\n",
       "      <td>4.910000</td>\n",
       "      <td>3.000000</td>\n",
       "    </tr>\n",
       "    <tr>\n",
       "      <th>50%</th>\n",
       "      <td>1996.000000</td>\n",
       "      <td>15.060000</td>\n",
       "      <td>6.540000</td>\n",
       "    </tr>\n",
       "    <tr>\n",
       "      <th>75%</th>\n",
       "      <td>2006.000000</td>\n",
       "      <td>23.840000</td>\n",
       "      <td>9.750000</td>\n",
       "    </tr>\n",
       "    <tr>\n",
       "      <th>max</th>\n",
       "      <td>2016.000000</td>\n",
       "      <td>37.580000</td>\n",
       "      <td>32.600000</td>\n",
       "    </tr>\n",
       "  </tbody>\n",
       "</table>\n",
       "</div>"
      ],
      "text/plain": [
       "              year      SP500        AGG\n",
       "count    41.000000  41.000000  41.000000\n",
       "mean   1996.000000  12.639268   7.751707\n",
       "std      11.979149  16.214794   6.850808\n",
       "min    1976.000000 -37.000000  -2.920000\n",
       "25%    1986.000000   4.910000   3.000000\n",
       "50%    1996.000000  15.060000   6.540000\n",
       "75%    2006.000000  23.840000   9.750000\n",
       "max    2016.000000  37.580000  32.600000"
      ]
     },
     "execution_count": 11,
     "metadata": {},
     "output_type": "execute_result"
    }
   ],
   "source": [
    "example = pd.read_csv(\"data/example.csv\")\n",
    "example.describe()"
   ]
  },
  {
   "cell_type": "code",
   "execution_count": 15,
   "id": "621abdf1",
   "metadata": {},
   "outputs": [
    {
     "data": {
      "text/html": [
       "<div>\n",
       "<style scoped>\n",
       "    .dataframe tbody tr th:only-of-type {\n",
       "        vertical-align: middle;\n",
       "    }\n",
       "\n",
       "    .dataframe tbody tr th {\n",
       "        vertical-align: top;\n",
       "    }\n",
       "\n",
       "    .dataframe thead th {\n",
       "        text-align: right;\n",
       "    }\n",
       "</style>\n",
       "<table border=\"1\" class=\"dataframe\">\n",
       "  <thead>\n",
       "    <tr style=\"text-align: right;\">\n",
       "      <th></th>\n",
       "      <th>SP500</th>\n",
       "      <th>AGG</th>\n",
       "    </tr>\n",
       "  </thead>\n",
       "  <tbody>\n",
       "    <tr>\n",
       "      <th>SP500</th>\n",
       "      <td>1.000000</td>\n",
       "      <td>0.224937</td>\n",
       "    </tr>\n",
       "    <tr>\n",
       "      <th>AGG</th>\n",
       "      <td>0.224937</td>\n",
       "      <td>1.000000</td>\n",
       "    </tr>\n",
       "  </tbody>\n",
       "</table>\n",
       "</div>"
      ],
      "text/plain": [
       "          SP500       AGG\n",
       "SP500  1.000000  0.224937\n",
       "AGG    0.224937  1.000000"
      ]
     },
     "execution_count": 15,
     "metadata": {},
     "output_type": "execute_result"
    }
   ],
   "source": [
    "example[[\"SP500\", \"AGG\"]].corr()"
   ]
  },
  {
   "cell_type": "code",
   "execution_count": 12,
   "id": "8cc6ecdd",
   "metadata": {},
   "outputs": [
    {
     "data": {
      "text/plain": [
       "[<matplotlib.lines.Line2D at 0x11fc6f790>]"
      ]
     },
     "execution_count": 12,
     "metadata": {},
     "output_type": "execute_result"
    },
    {
     "data": {
      "image/png": "[encoded data removed]",
      "text/plain": [
       "<Figure size 640x480 with 1 Axes>"
      ]
     },
     "metadata": {},
     "output_type": "display_data"
    }
   ],
   "source": [
    "plt.plot(example.SP500)\n",
    "plt.plot(example.AGG)"
   ]
  },
  {
   "cell_type": "code",
   "execution_count": 13,
   "id": "83a98d5e",
   "metadata": {},
   "outputs": [
    {
     "name": "stdout",
     "output_type": "stream",
     "text": [
      "0.7794899048894224\n",
      "1.131502585582667\n"
     ]
    }
   ],
   "source": [
    "# Sharpe ratio over the years\n",
    "print(example[\"SP500\"].mean() / example[\"SP500\"].std())\n",
    "print(example[\"AGG\"].mean() / example[\"AGG\"].std())\n"
   ]
  },
  {
   "cell_type": "code",
   "execution_count": 23,
   "id": "eddcb347",
   "metadata": {},
   "outputs": [
    {
     "name": "stdout",
     "output_type": "stream",
     "text": [
      "0.9020713908086481\n",
      "1.0749567993844713\n",
      "1.2419951811440992\n"
     ]
    }
   ],
   "source": [
    "# Sharpe ratio about simple strategies between S&P500 and AGG (approximately)\n",
    "\n",
    "strategies = pd.DataFrame()\n",
    "strategies[\"A2\"] = 0.75 * example[\"SP500\"] + 0.25 * example[\"AGG\"]\n",
    "strategies[\"A3\"] = (example[\"SP500\"] + example[\"AGG\"]) / 2\n",
    "strategies[\"A4\"] = 0.25 * example[\"SP500\"] + 0.75 * example[\"AGG\"]\n",
    "print(strategies[\"A2\"].mean() / strategies[\"A2\"].std())\n",
    "print(strategies[\"A3\"].mean() / strategies[\"A3\"].std())\n",
    "print(strategies[\"A4\"].mean() / strategies[\"A4\"].std())\n"
   ]
  },
  {
   "cell_type": "code",
   "execution_count": null,
   "id": "36904e85",
   "metadata": {},
   "outputs": [],
   "source": []
  }
 ],
 "metadata": {
  "kernelspec": {
   "display_name": "venv",
   "language": "python",
   "name": "venv"
  },
  "language_info": {
   "codemirror_mode": {
    "name": "ipython",
    "version": 3
   },
   "file_extension": ".py",
   "mimetype": "text/x-python",
   "name": "python",
   "nbconvert_exporter": "python",
   "pygments_lexer": "ipython3",
   "version": "3.8.16"
  }
 },
 "nbformat": 4,
 "nbformat_minor": 5
}
